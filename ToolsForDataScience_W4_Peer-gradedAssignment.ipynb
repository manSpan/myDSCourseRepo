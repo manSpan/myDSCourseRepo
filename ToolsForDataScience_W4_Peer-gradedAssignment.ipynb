{
  "metadata": {
    "language_info": {
      "codemirror_mode": {
        "name": "python",
        "version": 3
      },
      "file_extension": ".py",
      "mimetype": "text/x-python",
      "name": "python",
      "nbconvert_exporter": "python",
      "pygments_lexer": "ipython3",
      "version": "3.8"
    },
    "kernelspec": {
      "name": "python",
      "display_name": "Pyolite",
      "language": "python"
    }
  },
  "nbformat_minor": 4,
  "nbformat": 4,
  "cells": [
    {
      "cell_type": "markdown",
      "source": "# My Jupyter Notebook on IBM Watson Studio",
      "metadata": {}
    },
    {
      "cell_type": "markdown",
      "source": "**Manos Spanoudakis**  \nTechnical Architect\n",
      "metadata": {}
    },
    {
      "cell_type": "markdown",
      "source": "*I am interested in data science because I want to understand more about the AI tools I am currently using at work. This will help me generate better models for my customers*",
      "metadata": {}
    },
    {
      "cell_type": "markdown",
      "source": "### The below code is supposed to print the result of 40 + 2 which is 42",
      "metadata": {}
    },
    {
      "cell_type": "code",
      "source": "40 + 2",
      "metadata": {
        "trusted": true
      },
      "execution_count": 4,
      "outputs": [
        {
          "execution_count": 4,
          "output_type": "execute_result",
          "data": {
            "text/plain": "42"
          },
          "metadata": {}
        }
      ]
    },
    {
      "cell_type": "markdown",
      "source": "This is an awesome bulleted List\n* Item 1 \n* Item 2\n* Item 3\n\nThis is an awesome numbered List\n1. Item 1\n2. Item 2\n3. Item 3\n\n~~This is a strikethrough sentence~~\n\nThis is an awesome table\n| Column 1 | Column 2 | \n| ------ | ------ |\n| R1C1| R1C2| \n| R2C1| R2C2| \n\n---\n\nand finally a link: <a href=\"https://www.coursera.org\">Coursera.org</a> \n",
      "metadata": {}
    },
    {
      "cell_type": "code",
      "source": "",
      "metadata": {},
      "execution_count": null,
      "outputs": []
    }
  ]
}